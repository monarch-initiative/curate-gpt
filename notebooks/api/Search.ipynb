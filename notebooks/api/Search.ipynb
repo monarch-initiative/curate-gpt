{
 "cells": [
  {
   "cell_type": "markdown",
   "source": [
    "# Search and Retrieval\n",
    "\n",
    "## Setup"
   ],
   "metadata": {
    "collapsed": false
   },
   "id": "92c89f26495f6bea"
  },
  {
   "cell_type": "code",
   "execution_count": 1,
   "outputs": [],
   "source": [
    "from curate_gpt.store import get_store\n",
    "\n",
    "# assumes pre-populated\n",
    "store = get_store(\"chromadb\", \"../../db\")"
   ],
   "metadata": {
    "collapsed": false,
    "ExecuteTime": {
     "end_time": "2023-11-01T22:15:38.167385Z",
     "start_time": "2023-11-01T22:15:36.700702Z"
    }
   },
   "id": "34a6e5f1b12dcf1b"
  },
  {
   "cell_type": "markdown",
   "source": [
    "## Similarity Search\n",
    "\n",
    "Searches based on embedding of text in query against vector database"
   ],
   "metadata": {
    "collapsed": false
   },
   "id": "263db03dffe56b7c"
  },
  {
   "cell_type": "code",
   "execution_count": 2,
   "outputs": [
    {
     "name": "stdout",
     "output_type": "stream",
     "text": [
      "* ForebrainNeuronDevelopment\n",
      "    - Distance: 0.2577448785305023 Text: forebrain neuron dev...\n",
      "* ForebrainGenerationOfNeurons\n",
      "    - Distance: 0.2579804062843323 Text: forebrain generation...\n",
      "* ForebrainNeuronDifferentiation\n",
      "    - Distance: 0.27386343479156494 Text: forebrain neuron dif...\n",
      "* NeuronOfTheForebrain\n",
      "    - Distance: 0.2808114290237427 Text: neuron of the forebr...\n",
      "* ForebrainNeuroblastDifferentiation\n",
      "    - Distance: 0.2961786091327667 Text: forebrain neuroblast...\n",
      "* BasalForebrain\n",
      "    - Distance: 0.3035440444946289 Text: basal forebrain A re...\n",
      "* Forebrain\n",
      "    - Distance: 0.30516189336776733 Text: forebrain The most a...\n",
      "* NeuroblastDivisionInSubpallium\n",
      "    - Distance: 0.3056851625442505 Text: neuroblast division ...\n",
      "* ForebrainNeuralPlate\n",
      "    - Distance: 0.3136727511882782 Text: forebrain neural pla...\n",
      "* ForebrainDevelopment\n",
      "    - Distance: 0.31519147753715515 Text: forebrain developmen...\n"
     ]
    }
   ],
   "source": [
    "for obj, distance, info in store.search(\"forebrain neurons\", collection=\"ont_cl\"):\n",
    "    print(f\"* {obj['id']}\\n    - Distance: {distance} Text: {info['document'][0:20]}...\")"
   ],
   "metadata": {
    "collapsed": false,
    "ExecuteTime": {
     "end_time": "2023-11-01T01:28:52.532137Z",
     "start_time": "2023-11-01T01:28:31.259378Z"
    }
   },
   "id": "93c49c45d320bace"
  },
  {
   "cell_type": "markdown",
   "source": [
    "## Retrieval\n",
    "\n",
    "Boolean queries"
   ],
   "metadata": {
    "collapsed": false
   },
   "id": "85d6cb75dc12cad5"
  },
  {
   "cell_type": "code",
   "execution_count": 35,
   "outputs": [
    {
     "data": {
      "text/plain": "[({'id': 'NeuronOfTheForebrain',\n   'label': 'neuron of the forebrain',\n   'definition': 'A CNS neuron of the forebrain.',\n   'aliases': None,\n   'relationships': [{'predicate': 'HasSomaLocation', 'target': 'Forebrain'},\n    {'predicate': 'subClassOf', 'target': 'CNSNeuron_sensuVertebrata_'},\n    {'predicate': 'subClassOf', 'target': 'CentralNervousSystemNeuron'}],\n   'logical_definition': [{'predicate': 'rdfs:subClassOf',\n     'target': 'CNSNeuron_sensuVertebrata_'},\n    {'predicate': 'HasSomaLocation', 'target': 'Forebrain'}],\n   'original_id': 'CL:0012001'},\n  0.0,\n  {'document': \"neuron of the forebrain A CNS neuron of the forebrain. [{'predicate': 'HasSomaLocation', 'target': 'Forebrain'}, {'predicate': 'subClassOf', 'target': 'CNSNeuron_sensuVertebrata_'}, {'predicate': 'subClassOf', 'target': 'CentralNervousSystemNeuron'}]\"})]"
     },
     "execution_count": 35,
     "metadata": {},
     "output_type": "execute_result"
    }
   ],
   "source": [
    "objs = list(store.find({\"id\": \"NeuronOfTheForebrain\"}, collection=\"ont_cl\"))\n",
    "objs"
   ],
   "metadata": {
    "collapsed": false,
    "ExecuteTime": {
     "end_time": "2023-11-01T22:08:52.190909Z",
     "start_time": "2023-11-01T22:08:37.033852Z"
    }
   },
   "id": "870f1ac824a65fd"
  },
  {
   "cell_type": "markdown",
   "source": [
    "## Including Vector Embeddings in results\n",
    "\n"
   ],
   "metadata": {
    "collapsed": false
   },
   "id": "4b3c5f58c5c759"
  },
  {
   "cell_type": "code",
   "execution_count": 14,
   "outputs": [
    {
     "data": {
      "text/plain": "[-0.00770607078447938,\n 0.009014262817800045,\n -0.0028122728690505028,\n 0.014608148485422134,\n -0.014907942153513432,\n 0.004258438479155302,\n 0.007985424250364304,\n 0.0027458411641418934,\n -0.011058313772082329,\n -0.018559979274868965,\n -0.0027458411641418934,\n 0.024256067350506783,\n 0.0012409089831635356,\n 0.0037303923163563013,\n 0.006833942607045174,\n 0.009804628789424896,\n 0.036438606679439545,\n -0.0029638733249157667,\n -0.00591411953791976,\n -0.00024549898807890713]"
     },
     "execution_count": 14,
     "metadata": {},
     "output_type": "execute_result"
    }
   ],
   "source": [
    "objs = list(store.find({\"id\": \"NeuronOfTheForebrain\"}, collection=\"ont_cl\", include=[\"metadatas\", \"documents\", \"embeddings\"]))\n",
    "_, __, info = objs[0]\n",
    "info[\"_embeddings\"][0:20]"
   ],
   "metadata": {
    "collapsed": false,
    "ExecuteTime": {
     "end_time": "2023-11-01T01:51:33.493805Z",
     "start_time": "2023-11-01T01:51:20.645324Z"
    }
   },
   "id": "de1ffbbfd5dfa589"
  },
  {
   "cell_type": "markdown",
   "source": [
    "## Lookup by ID\n",
    "\n",
    "Assumes that there is an identifier column"
   ],
   "metadata": {
    "collapsed": false
   },
   "id": "9f9f17d59b264a03"
  },
  {
   "cell_type": "code",
   "execution_count": 6,
   "outputs": [
    {
     "data": {
      "text/plain": "{'id': 'NeuronOfTheForebrain',\n 'label': 'neuron of the forebrain',\n 'definition': 'A CNS neuron of the forebrain.',\n 'aliases': None,\n 'relationships': [{'predicate': 'HasSomaLocation', 'target': 'Forebrain'},\n  {'predicate': 'subClassOf', 'target': 'CNSNeuron_sensuVertebrata_'},\n  {'predicate': 'subClassOf', 'target': 'CentralNervousSystemNeuron'}],\n 'logical_definition': [{'predicate': 'rdfs:subClassOf',\n   'target': 'CNSNeuron_sensuVertebrata_'},\n  {'predicate': 'HasSomaLocation', 'target': 'Forebrain'}],\n 'original_id': 'CL:0012001'}"
     },
     "execution_count": 6,
     "metadata": {},
     "output_type": "execute_result"
    }
   ],
   "source": [
    "store.lookup(\"NeuronOfTheForebrain\", collection=\"ont_cl\")"
   ],
   "metadata": {
    "collapsed": false,
    "ExecuteTime": {
     "start_time": "2023-11-01T01:46:11.928766Z"
    }
   },
   "id": "5ed3ebf05483057f"
  },
  {
   "cell_type": "markdown",
   "source": [
    "## All by All"
   ],
   "metadata": {
    "collapsed": false
   },
   "id": "b76aca0c5e74df05"
  },
  {
   "cell_type": "code",
   "execution_count": 15,
   "outputs": [
    {
     "data": {
      "text/plain": "16121"
     },
     "execution_count": 15,
     "metadata": {},
     "output_type": "execute_result"
    }
   ],
   "source": [
    "objs = list(store.find({}, collection=\"ont_cl\", include=[\"metadatas\", \"documents\", \"embeddings\"]))\n",
    "len(objs)"
   ],
   "metadata": {
    "collapsed": false,
    "ExecuteTime": {
     "end_time": "2023-11-01T17:52:00.627969Z",
     "start_time": "2023-11-01T17:51:59.264344Z"
    }
   },
   "id": "ef188270526e7f5d"
  },
  {
   "cell_type": "code",
   "execution_count": 32,
   "outputs": [
    {
     "data": {
      "text/plain": "array([[0.95941195, 0.26726124, 0.53452248, 0.80178373],\n       [0.99819089, 0.45584231, 0.56980288, 0.68376346],\n       [1.        , 0.50257071, 0.57436653, 0.64616234]])"
     },
     "execution_count": 32,
     "metadata": {},
     "output_type": "execute_result"
    }
   ],
   "source": [
    "import numpy as np\n",
    "\n",
    "def compute_cosine_similarity(list1, list2):\n",
    "    # Convert lists to numpy arrays\n",
    "    matrix1 = np.array(list1)\n",
    "    matrix2 = np.array(list2)\n",
    "    \n",
    "    # Normalize the vectors in both matrices\n",
    "    matrix1_norm = matrix1 / np.linalg.norm(matrix1, axis=1)[:, np.newaxis]\n",
    "    matrix2_norm = matrix2 / np.linalg.norm(matrix2, axis=1)[:, np.newaxis]\n",
    "    \n",
    "    # Compute dot products (resulting in cosine similarity values)\n",
    "    cosine_similarity_matrix = np.dot(matrix1_norm, matrix2_norm.T)\n",
    "    \n",
    "    return cosine_similarity_matrix\n",
    "\n",
    "# Sample lists of vectors\n",
    "list1 = [[1, 2, 3], [4, 5, 6], [7, 8, 9]]\n",
    "list2 = [[7, 8, 9], [1, 0, 0], [0, 1, 0], [0, 0, 1]]\n",
    "\n",
    "cosine_similarity_matrix = compute_cosine_similarity(list1, list2)\n",
    "cosine_similarity_matrix\n"
   ],
   "metadata": {
    "collapsed": false,
    "ExecuteTime": {
     "end_time": "2023-11-01T18:51:36.991624Z",
     "start_time": "2023-11-01T18:51:36.979010Z"
    }
   },
   "id": "c6c33db257400463"
  },
  {
   "cell_type": "code",
   "execution_count": 33,
   "outputs": [
    {
     "data": {
      "text/plain": "1.0"
     },
     "execution_count": 33,
     "metadata": {},
     "output_type": "execute_result"
    }
   ],
   "source": [
    "cosine_similarity_matrix[2][0]"
   ],
   "metadata": {
    "collapsed": false,
    "ExecuteTime": {
     "end_time": "2023-11-01T18:52:16.268556Z",
     "start_time": "2023-11-01T18:52:16.257850Z"
    }
   },
   "id": "a1db3d635fbe297c"
  },
  {
   "cell_type": "code",
   "execution_count": 17,
   "outputs": [],
   "source": [
    "vectors = [info[\"_embeddings\"] for _, __, info in objs]"
   ],
   "metadata": {
    "collapsed": false,
    "ExecuteTime": {
     "end_time": "2023-11-01T17:52:58.293959Z",
     "start_time": "2023-11-01T17:52:58.289563Z"
    }
   },
   "id": "fdbddd987a82736e"
  },
  {
   "cell_type": "code",
   "execution_count": 18,
   "outputs": [],
   "source": [
    "cosine_similarity_matrix = compute_cosine_similarity(vectors, vectors)"
   ],
   "metadata": {
    "collapsed": false,
    "ExecuteTime": {
     "end_time": "2023-11-01T17:53:08.245873Z",
     "start_time": "2023-11-01T17:53:04.513805Z"
    }
   },
   "id": "f0a83c7047bb5c83"
  },
  {
   "cell_type": "code",
   "execution_count": 19,
   "outputs": [
    {
     "data": {
      "text/plain": "16121"
     },
     "execution_count": 19,
     "metadata": {},
     "output_type": "execute_result"
    }
   ],
   "source": [
    "len(cosine_similarity_matrix)"
   ],
   "metadata": {
    "collapsed": false,
    "ExecuteTime": {
     "end_time": "2023-11-01T17:53:43.006858Z",
     "start_time": "2023-11-01T17:53:42.991047Z"
    }
   },
   "id": "fdfbdcf145c95f72"
  },
  {
   "cell_type": "code",
   "execution_count": 20,
   "outputs": [],
   "source": [
    "def top_matches(cosine_similarity_matrix):\n",
    "    # Find the index of the maximum value in each row\n",
    "    top_match_indices = np.argmax(cosine_similarity_matrix, axis=1)\n",
    "    \n",
    "    # Find the maximum similarity value in each row\n",
    "    top_match_values = np.amax(cosine_similarity_matrix, axis=1)\n",
    "    \n",
    "    return top_match_indices, top_match_values"
   ],
   "metadata": {
    "collapsed": false,
    "ExecuteTime": {
     "end_time": "2023-11-01T17:54:16.449238Z",
     "start_time": "2023-11-01T17:54:16.440079Z"
    }
   },
   "id": "134564def5c79edf"
  },
  {
   "cell_type": "code",
   "execution_count": 34,
   "outputs": [
    {
     "data": {
      "text/plain": "(array([3, 2, 1]), array([1., 1., 1.]))"
     },
     "execution_count": 34,
     "metadata": {},
     "output_type": "execute_result"
    }
   ],
   "source": [
    "list1 = [[0, 0, 1], [0, 1, 0], [1, 0, 0]]\n",
    "list2 = [[0.5, 0.5, 0.5], [1, 0, 0], [0, 1, 0], [0, 0, 1]]\n",
    "\n",
    "# Re-compute the cosine similarity matrix\n",
    "test_matrix = compute_cosine_similarity(list1, list2)\n",
    "\n",
    "# Find the top matches\n",
    "top_indices, top_values = top_matches(test_matrix)\n",
    "top_indices, top_values"
   ],
   "metadata": {
    "collapsed": false,
    "ExecuteTime": {
     "end_time": "2023-11-01T18:53:57.370783Z",
     "start_time": "2023-11-01T18:53:57.355257Z"
    }
   },
   "id": "a14fab07201ff39a"
  },
  {
   "cell_type": "code",
   "execution_count": 22,
   "outputs": [
    {
     "data": {
      "text/plain": "16121"
     },
     "execution_count": 22,
     "metadata": {},
     "output_type": "execute_result"
    }
   ],
   "source": [
    "tm_ix, tm_vals = top_matches(cosine_similarity_matrix)\n",
    "len(tm_ix)"
   ],
   "metadata": {
    "collapsed": false,
    "ExecuteTime": {
     "end_time": "2023-11-01T17:54:58.472236Z",
     "start_time": "2023-11-01T17:54:58.352575Z"
    }
   },
   "id": "2ec1f058abf4c10a"
  },
  {
   "cell_type": "code",
   "execution_count": 24,
   "outputs": [
    {
     "data": {
      "text/plain": "array([0, 1, 2, 3, 4])"
     },
     "execution_count": 24,
     "metadata": {},
     "output_type": "execute_result"
    }
   ],
   "source": [
    "tm_ix[0:5]"
   ],
   "metadata": {
    "collapsed": false,
    "ExecuteTime": {
     "end_time": "2023-11-01T17:55:27.519701Z",
     "start_time": "2023-11-01T17:55:27.516424Z"
    }
   },
   "id": "81de8cf228e86b8a"
  },
  {
   "cell_type": "code",
   "execution_count": 25,
   "outputs": [
    {
     "data": {
      "text/plain": "array([1., 1., 1., 1., 1.])"
     },
     "execution_count": 25,
     "metadata": {},
     "output_type": "execute_result"
    }
   ],
   "source": [
    "tm_vals[0:5]"
   ],
   "metadata": {
    "collapsed": false,
    "ExecuteTime": {
     "end_time": "2023-11-01T17:55:35.686424Z",
     "start_time": "2023-11-01T17:55:35.670320Z"
    }
   },
   "id": "879f230c7185b140"
  },
  {
   "cell_type": "markdown",
   "source": [
    "## Latency Check"
   ],
   "metadata": {
    "collapsed": false
   },
   "id": "d45757bc0fe1ec85"
  },
  {
   "cell_type": "code",
   "execution_count": 74,
   "outputs": [],
   "source": [
    "store = get_store(\"chromadb\", \"../../db\")\n",
    "client = store.client"
   ],
   "metadata": {
    "collapsed": false,
    "ExecuteTime": {
     "end_time": "2023-11-01T22:58:36.369774Z",
     "start_time": "2023-11-01T22:58:36.364663Z"
    }
   },
   "id": "688a58b40b01a1c3"
  },
  {
   "cell_type": "code",
   "execution_count": 75,
   "outputs": [],
   "source": [
    "cxn = client.get_collection(\"ont_ecosim\")"
   ],
   "metadata": {
    "collapsed": false,
    "ExecuteTime": {
     "end_time": "2023-11-01T22:58:36.836109Z",
     "start_time": "2023-11-01T22:58:36.829372Z"
    }
   },
   "id": "a565c263b827dc42"
  },
  {
   "cell_type": "code",
   "execution_count": 76,
   "outputs": [],
   "source": [
    "x = cxn.get(where={}, include=['metadatas', 'documents', 'embeddings'])"
   ],
   "metadata": {
    "collapsed": false,
    "ExecuteTime": {
     "end_time": "2023-11-01T22:58:37.507404Z",
     "start_time": "2023-11-01T22:58:37.182201Z"
    }
   },
   "id": "8dcc408c65f337ca"
  },
  {
   "cell_type": "code",
   "execution_count": 77,
   "outputs": [
    {
     "data": {
      "text/plain": "1690"
     },
     "execution_count": 77,
     "metadata": {},
     "output_type": "execute_result"
    }
   ],
   "source": [
    "len(x[\"embeddings\"])"
   ],
   "metadata": {
    "collapsed": false,
    "ExecuteTime": {
     "end_time": "2023-11-01T22:58:37.512084Z",
     "start_time": "2023-11-01T22:58:37.507858Z"
    }
   },
   "id": "ffed999ca144b672"
  },
  {
   "cell_type": "code",
   "execution_count": 78,
   "outputs": [
    {
     "data": {
      "text/plain": "1536"
     },
     "execution_count": 78,
     "metadata": {},
     "output_type": "execute_result"
    }
   ],
   "source": [
    "len(x[\"embeddings\"][0])"
   ],
   "metadata": {
    "collapsed": false,
    "ExecuteTime": {
     "end_time": "2023-11-01T22:58:37.920731Z",
     "start_time": "2023-11-01T22:58:37.914696Z"
    }
   },
   "id": "60bc6fcd0ad6a731"
  },
  {
   "cell_type": "code",
   "execution_count": 69,
   "outputs": [],
   "source": [
    "x = cxn.get(where={}, include=['metadatas', 'documents', 'embeddings'])"
   ],
   "metadata": {
    "collapsed": false,
    "ExecuteTime": {
     "end_time": "2023-11-01T22:53:12.776849Z",
     "start_time": "2023-11-01T22:53:12.766527Z"
    }
   },
   "id": "541174137fa306ac"
  },
  {
   "cell_type": "code",
   "execution_count": null,
   "outputs": [],
   "source": [],
   "metadata": {
    "collapsed": false
   },
   "id": "a5cad0d5b49d876e"
  }
 ],
 "metadata": {
  "kernelspec": {
   "display_name": "Python 3",
   "language": "python",
   "name": "python3"
  },
  "language_info": {
   "codemirror_mode": {
    "name": "ipython",
    "version": 2
   },
   "file_extension": ".py",
   "mimetype": "text/x-python",
   "name": "python",
   "nbconvert_exporter": "python",
   "pygments_lexer": "ipython2",
   "version": "2.7.6"
  }
 },
 "nbformat": 4,
 "nbformat_minor": 5
}
