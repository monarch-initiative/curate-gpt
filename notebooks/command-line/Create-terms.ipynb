{
 "cells": [
  {
   "cell_type": "markdown",
   "id": "ce0f7357-3e80-42d1-afeb-d559aeae1dfb",
   "metadata": {},
   "source": [
    "# Creating ontology terms\n",
    "\n",
    "__Note__: for this notebook to work you need to have first executed the Index-an-Ontology notebook"
   ]
  },
  {
   "cell_type": "code",
   "execution_count": 1,
   "id": "0eedaaca-7cb5-49d2-aaff-bccf56377868",
   "metadata": {},
   "outputs": [
    {
     "name": "stdout",
     "output_type": "stream",
     "text": [
      "id: AlginateTransport\n",
      "label: alginate transport\n",
      "definition: The directed movement of alginate into, out of or within a cell, or between\n",
      "  cells, by means of some agent such as a transporter or pore. Alginate is a linear\n",
      "  polysaccharide composed of beta-D-mannuronic acid (M) and alpha-L-guluronic acid\n",
      "  (G) residues.\n",
      "relationships:\n",
      "- predicate: HasPrimaryInput\n",
      "  target: Alginate\n",
      "- predicate: rdfs:subClassOf\n",
      "  target: CarbohydrateAcidTransport\n",
      "\n"
     ]
    }
   ],
   "source": [
    "!curategpt create -c terms_go \"alginate transport\""
   ]
  },
  {
   "cell_type": "code",
   "execution_count": 2,
   "id": "7c6d7351-99c3-4e4a-ba98-7309d65e575d",
   "metadata": {},
   "outputs": [
    {
     "name": "stdout",
     "output_type": "stream",
     "text": [
      "id: AlginateTransporterActivity\n",
      "label: alginate transporter activity\n",
      "definition: Enables the transfer of alginate, a linear polymer of beta-(1->4)-linked\n",
      "  D-mannuronate residues alternating with alpha-(1->4)-linked L-guluronate residues\n",
      "relationships:\n",
      "- predicate: rdfs:subClassOf\n",
      "  target: PolysaccharideTransporterActivity\n",
      "\n"
     ]
    }
   ],
   "source": [
    "!curategpt create -c terms_go \"alginate transporter activity\""
   ]
  },
  {
   "cell_type": "code",
   "execution_count": 3,
   "id": "a98b89cc-433b-401f-974c-3bdab51b28a2",
   "metadata": {},
   "outputs": [
    {
     "name": "stdout",
     "output_type": "stream",
     "text": [
      "id: AlginicAcidTransport\n",
      "label: alginic acid transport\n",
      "definition: The directed movement of alginic acid into, out of or within a cell, or\n",
      "  between cells, by means of some agent such as a transporter or pore.\n",
      "relationships:\n",
      "- predicate: HasPrimaryInput\n",
      "  target: AlginicAcid\n",
      "- predicate: rdfs:subClassOf\n",
      "  target: CarboxylicAcidTransport\n",
      "\n"
     ]
    }
   ],
   "source": [
    "!curategpt create -c terms_go \"alginic acid transport\""
   ]
  },
  {
   "cell_type": "code",
   "execution_count": 4,
   "id": "c9326f6d-6675-40ac-9391-b0b61648f703",
   "metadata": {},
   "outputs": [
    {
     "name": "stdout",
     "output_type": "stream",
     "text": [
      "id: NegativeRegulationOfTentacleDevelopment\n",
      "label: negative regulation of tentacle development\n",
      "definition: Any process that stops, prevents, or reduces the frequency, rate or extent\n",
      "  of tentacle development.\n",
      "relationships:\n",
      "- predicate: NegativelyRegulates\n",
      "  target: TentacleDevelopment\n",
      "- predicate: rdfs:subClassOf\n",
      "  target: NegativeRegulationOfTissueDevelopment\n",
      "- predicate: rdfs:subClassOf\n",
      "  target: NegativeRegulationOfOrganDevelopment\n",
      "\n"
     ]
    }
   ],
   "source": [
    "!curategpt create -c terms_go \"negative regulation of tentacle development\""
   ]
  },
  {
   "cell_type": "code",
   "execution_count": 5,
   "id": "f7ac8615-b14b-4f85-9910-e26e886cf288",
   "metadata": {},
   "outputs": [
    {
     "name": "stdout",
     "output_type": "stream",
     "text": [
      "id: NegativeRegulationOfAndroeciumDevelopment\n",
      "label: negative regulation of androecium development\n",
      "definition: Any process that reduces the frequency of development of an androecium.\n",
      "relationships:\n",
      "- predicate: NegativelyRegulates\n",
      "  target: AndroeciumDevelopment\n",
      "- predicate: rdfs:subClassOf\n",
      "  target: NegativeRegulationOfFloralOrganDevelopment\n",
      "- predicate: rdfs:subClassOf\n",
      "  target: NegativeRegulationOfSexualOrganDevelopment\n",
      "\n"
     ]
    }
   ],
   "source": [
    "!curategpt create -c terms_go -P definition \"any process that reduces the frequency of development of an androecium\"\n"
   ]
  },
  {
   "cell_type": "markdown",
   "id": "dae4236c-785e-42eb-b56a-810a82e73da5",
   "metadata": {},
   "source": [
    "## Create a GO term for a Reactome reaction\n",
    "\n",
    "This RHEA reaction has no GO term assigned: https://www.rhea-db.org/rhea/29079\n",
    "\n",
    "Let's see what a corresponding GO term might look like:"
   ]
  },
  {
   "cell_type": "code",
   "execution_count": 7,
   "id": "186ea9ce-626e-40c2-887f-87bf7a6ffe97",
   "metadata": {},
   "outputs": [
    {
     "name": "stdout",
     "output_type": "stream",
     "text": [
      "id: RLactateUbiquinoneReductaseActivity\n",
      "label: (R)-lactate-ubiquinone reductase activity\n",
      "definition: 'catalysis of the reaction: (R)-lactate + ubiquinone-8 = pyruvate + ubiquinol-8'\n",
      "relationships:\n",
      "- predicate: HasParticipant\n",
      "  target: (R)-lactate\n",
      "- predicate: HasParticipant\n",
      "  target: Ubiquinone8_\n",
      "- predicate: HasParticipant\n",
      "  target: Ubiquinol8_\n",
      "- predicate: HasParticipant\n",
      "  target: Pyruvate\n",
      "\n"
     ]
    }
   ],
   "source": [
    "!curategpt create -c terms_go -P definition \"catalysis of the reaction: (R)-lactate + ubiquinone-8 = pyruvate + ubiquinol-8\""
   ]
  },
  {
   "cell_type": "markdown",
   "id": "be78f618-2765-4d96-994e-3be597518eaf",
   "metadata": {},
   "source": [
    "Let's try a different one: https://www.rhea-db.org/rhea/34943"
   ]
  },
  {
   "cell_type": "code",
   "execution_count": 9,
   "id": "8a1550e5-370c-4cc9-80a5-fd7f8f331441",
   "metadata": {},
   "outputs": [
    {
     "name": "stdout",
     "output_type": "stream",
     "text": [
      "id: HydroquinoneO_beta_D_glucopyranosidePhosphoenolpyruvateArbutin6_phosphatePyruvatePhosphotransferaseActivity\n",
      "label: \"hydroquinone O-\\u03B2-D-glucopyranoside phosphoenolpyruvate: arbutin 6-phosphate\\\n",
      "  \\ pyruvate phosphotransferase activity\"\n",
      "definition: \"catalysis of the reaction: hydroquinone O-\\u03B2-D-glucopyranoside(out)\\\n",
      "  \\ + phosphoenolpyruvate(in) = arbutin 6-phosphate(in) + pyruvate(in)\"\n",
      "relationships:\n",
      "- predicate: HasParticipant\n",
      "  target: HydroquinoneO_beta_D_glucopyranoside\n",
      "- predicate: HasParticipant\n",
      "  target: Phosphoenolpyruvate\n",
      "- predicate: HasParticipant\n",
      "  target: Arbutin6_phosphate\n",
      "- predicate: HasParticipant\n",
      "  target: Pyruvate\n",
      "- predicate: rdfs:subClassOf\n",
      "  target: PhosphotransferaseActivity\n",
      "\n"
     ]
    }
   ],
   "source": [
    "!curategpt create -c terms_go -P definition \"catalysis of the reaction: hydroquinone O-β-D-glucopyranoside(out) + phosphoenolpyruvate(in) = arbutin 6-phosphate(in) + pyruvate(in)\""
   ]
  },
  {
   "cell_type": "markdown",
   "id": "c84a9995-1dec-43ea-b905-89707d8fa167",
   "metadata": {},
   "source": [
    "## Cell Types"
   ]
  },
  {
   "cell_type": "code",
   "execution_count": 10,
   "id": "8c48da4c-8a79-4210-a143-e4a447027453",
   "metadata": {},
   "outputs": [
    {
     "name": "stdout",
     "output_type": "stream",
     "text": [
      "huggingface/tokenizers: The current process just got forked, after parallelism has already been used. Disabling parallelism to avoid deadlocks...\n",
      "To disable this warning, you can either:\n",
      "\t- Avoid using `tokenizers` before the fork if possible\n",
      "\t- Explicitly set the environment variable TOKENIZERS_PARALLELISM=(true | false)\n",
      "huggingface/tokenizers: The current process just got forked, after parallelism has already been used. Disabling parallelism to avoid deadlocks...\n",
      "To disable this warning, you can either:\n",
      "\t- Avoid using `tokenizers` before the fork if possible\n",
      "\t- Explicitly set the environment variable TOKENIZERS_PARALLELISM=(true | false)\n",
      "id: NeocorticalMartinottiCell\n",
      "label: neocortical martinotti cell\n",
      "definition: A type of Martinotti cell found in the neocortex. These cells are characterized\n",
      "  by their unique morphology, including a single long axon and multiple dendrites\n",
      "  that extend horizontally in the cortex.\n",
      "relationships:\n",
      "- predicate: HasCharacteristic\n",
      "  target: MartinottiMorphology\n",
      "- predicate: rdfs:subClassOf\n",
      "  target: MartinottiNeuron\n",
      "- predicate: rdfs:subClassOf\n",
      "  target: GABAergicInterneuron\n",
      "- predicate: rdfs:subClassOf\n",
      "  target: CorticalInterneuron\n",
      "\n"
     ]
    }
   ],
   "source": [
    "!curategpt create -c terms_cl \"neocortical martinotti cell\""
   ]
  },
  {
   "cell_type": "code",
   "execution_count": 11,
   "id": "14aadc38-7980-48f6-9aaf-b83305d36850",
   "metadata": {},
   "outputs": [
    {
     "name": "stdout",
     "output_type": "stream",
     "text": [
      "huggingface/tokenizers: The current process just got forked, after parallelism has already been used. Disabling parallelism to avoid deadlocks...\n",
      "To disable this warning, you can either:\n",
      "\t- Avoid using `tokenizers` before the fork if possible\n",
      "\t- Explicitly set the environment variable TOKENIZERS_PARALLELISM=(true | false)\n",
      "huggingface/tokenizers: The current process just got forked, after parallelism has already been used. Disabling parallelism to avoid deadlocks...\n",
      "To disable this warning, you can either:\n",
      "\t- Avoid using `tokenizers` before the fork if possible\n",
      "\t- Explicitly set the environment variable TOKENIZERS_PARALLELISM=(true | false)\n",
      "id: BasketVIPInterneuron\n",
      "label: basket VIP interneuron\n",
      "definition: Basket VIP interneurons refer to a subpopulation of basket cells that\n",
      "  express vasoactive intestinal peptide (VIP). VIP is a neuropeptide that acts as\n",
      "  a neurotransmitter or neurohormone and is involved in regulating circadian rhythms,\n",
      "  immune system responses, and vasodilation. These interneurons play important roles\n",
      "  in modulating neural activity and synaptic transmission in various brain regions.\n",
      "relationships:\n",
      "- predicate: HasCharacteristic\n",
      "  target: BasketCellMorphology\n",
      "- predicate: HasCharacteristic\n",
      "  target: VIPExpression\n",
      "- predicate: rdfs:subClassOf\n",
      "  target: MultipolarNeuron\n",
      "- predicate: rdfs:subClassOf\n",
      "  target: GABAergicInterneuron\n",
      "\n"
     ]
    }
   ],
   "source": [
    "!curategpt create -c terms_cl \"basket VIP interneuron\""
   ]
  },
  {
   "cell_type": "code",
   "execution_count": 12,
   "id": "1f9fb14f-b448-491b-a0f5-972263f71ff5",
   "metadata": {},
   "outputs": [
    {
     "name": "stdout",
     "output_type": "stream",
     "text": [
      "huggingface/tokenizers: The current process just got forked, after parallelism has already been used. Disabling parallelism to avoid deadlocks...\n",
      "To disable this warning, you can either:\n",
      "\t- Avoid using `tokenizers` before the fork if possible\n",
      "\t- Explicitly set the environment variable TOKENIZERS_PARALLELISM=(true | false)\n",
      "huggingface/tokenizers: The current process just got forked, after parallelism has already been used. Disabling parallelism to avoid deadlocks...\n",
      "To disable this warning, you can either:\n",
      "\t- Avoid using `tokenizers` before the fork if possible\n",
      "\t- Explicitly set the environment variable TOKENIZERS_PARALLELISM=(true | false)\n",
      "id: TCellOfJejunum\n",
      "label: T-cell of jejunum\n",
      "definition: A T cell that is located in the jejunum.\n",
      "relationships:\n",
      "- predicate: PartOf\n",
      "  target: Jejunum\n",
      "- predicate: rdfs:subClassOf\n",
      "  target: TCell\n",
      "\n"
     ]
    }
   ],
   "source": [
    "!curategpt create -c terms_cl \"T-cell of jejunum\""
   ]
  },
  {
   "cell_type": "code",
   "execution_count": null,
   "id": "d3bf8f5c-e9d2-4a47-a449-57a765ba519c",
   "metadata": {},
   "outputs": [],
   "source": []
  }
 ],
 "metadata": {
  "kernelspec": {
   "display_name": "Python 3 (ipykernel)",
   "language": "python",
   "name": "python3"
  },
  "language_info": {
   "codemirror_mode": {
    "name": "ipython",
    "version": 3
   },
   "file_extension": ".py",
   "mimetype": "text/x-python",
   "name": "python",
   "nbconvert_exporter": "python",
   "pygments_lexer": "ipython3",
   "version": "3.10.9"
  }
 },
 "nbformat": 4,
 "nbformat_minor": 5
}
