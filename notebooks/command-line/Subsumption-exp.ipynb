{
 "cells": [
  {
   "cell_type": "markdown",
   "source": [
    "# Subsumption experiments\n",
    "\n",
    "Experiments to investigate the relationship between cosine similarity of LLM embeddings and fraction of shared ancestors for pairs of ontology terms where one is subsumed by the other"
   ],
   "metadata": {
    "collapsed": false
   },
   "id": "11ab2c3cabc2f8d2"
  },
  {
   "cell_type": "raw",
   "source": [
    "Index ontology terms without relationship info (just label and definition) "
   ],
   "metadata": {
    "collapsed": false
   },
   "id": "34719c597052c669"
  },
  {
   "cell_type": "code",
   "execution_count": 6,
   "outputs": [
    {
     "name": "stdout",
     "output_type": "stream",
     "text": [
      "\u001B[34mInstalling dependencies from lock file\u001B[39m\r\n",
      "\r\n",
      "No dependencies to install or update\r\n",
      "\r\n",
      "\u001B[39;1mInstalling\u001B[39;22m the current project: \u001B[36mcurate-gpt\u001B[39m (\u001B[39;1m0.0.0.post2.dev0+335f59e\u001B[39;22m)\u001B[1G\u001B[2K\u001B[39;1mInstalling\u001B[39;22m the current project: \u001B[36mcurate-gpt\u001B[39m (\u001B[32m0.0.0.post2.dev0+335f59e\u001B[39m)\r\n"
     ]
    }
   ],
   "source": [
    "!poetry install"
   ],
   "metadata": {
    "collapsed": false,
    "ExecuteTime": {
     "end_time": "2024-02-23T20:28:22.995963Z",
     "start_time": "2024-02-23T20:28:16.250674Z"
    }
   },
   "id": "c04ef952913dd018"
  },
  {
   "cell_type": "code",
   "execution_count": null,
   "outputs": [],
   "source": [
    "ontologies = [\n",
    "    (\"ont_hp_norel\", \"hp\"),\n",
    "    (\"ont_mondo_norel\", \"mondo\"),\n",
    "    (\"ont_go_norel\", \"go\"),\n",
    "    (\"ont_foodon_norel\", \"foodon\"),\n",
    "    (\"ont_chebi_norel\", \"chebi\")\n",
    "]\n",
    "\n",
    "for chr_db_collection, ontology in ontologies:\n",
    "    command = f\"!curategpt ontology index --index-fields label,definition -p ../../stagedb -c {chr_db_collection} -m openai: sqlite:obo:{ontology}\"\n",
    "    print(command)\n",
    "    get_ipython().system(command)"
   ],
   "metadata": {
    "collapsed": false
   },
   "id": "15f7f0b0fcb8cc39"
  },
  {
   "cell_type": "code",
   "execution_count": 12,
   "outputs": [
    {
     "name": "stdout",
     "output_type": "stream",
     "text": [
      "/Users/jtr4v/Library/Caches/pypoetry/virtualenvs/curate-gpt-Z25hmCIa-py3.9/lib/python3.9/site-packages/pydantic/_internal/_fields.py:149: UserWarning: Field \"model_name\" has conflict with protected namespace \"model_\".\r\n",
      "\r\n",
      "You may be able to resolve this warning by setting `model_config['protected_namespaces'] = ()`.\r\n",
      "  warnings.warn(\r\n",
      "Using root term: MONDO:0700096 to select terms to compare.\r\n",
      "100%|████████████████████████████████| 42542/42542 [00:00<00:00, 2024347.44it/s]\r\n",
      "Building id2emb map: 42542it [00:00, 2673089.66it/s]\r\n",
      "Choosing terms to compare: 100%|███████████| 1000/1000 [00:01<00:00, 656.31it/s]\r\n",
      "/Users/jtr4v/Library/Caches/pypoetry/virtualenvs/curate-gpt-Z25hmCIa-py3.9/lib/python3.9/site-packages/seaborn/_oldcore.py:1498: FutureWarning: is_categorical_dtype is deprecated and will be removed in a future version. Use isinstance(dtype, CategoricalDtype) instead\r\n",
      "  if pd.api.types.is_categorical_dtype(vector):\r\n",
      "/Users/jtr4v/Library/Caches/pypoetry/virtualenvs/curate-gpt-Z25hmCIa-py3.9/lib/python3.9/site-packages/seaborn/_oldcore.py:1498: FutureWarning: is_categorical_dtype is deprecated and will be removed in a future version. Use isinstance(dtype, CategoricalDtype) instead\r\n",
      "  if pd.api.types.is_categorical_dtype(vector):\r\n",
      "Figure(640x480)\r\n",
      "r-squared: 0.3702593848159516\r\n",
      "/Users/jtr4v/Library/Caches/pypoetry/virtualenvs/curate-gpt-Z25hmCIa-py3.9/lib/python3.9/site-packages/pydantic/_internal/_fields.py:149: UserWarning: Field \"model_name\" has conflict with protected namespace \"model_\".\r\n",
      "\r\n",
      "You may be able to resolve this warning by setting `model_config['protected_namespaces'] = ()`.\r\n",
      "  warnings.warn(\r\n",
      "Using root term: MONDO:0700096 to select terms to compare.\r\n",
      "100%|████████████████████████████████| 42542/42542 [00:00<00:00, 1939732.80it/s]\r\n",
      "Building id2emb map: 42542it [00:00, 2888872.21it/s]\r\n",
      "Choosing terms to compare: 100%|███████████| 1000/1000 [00:01<00:00, 589.07it/s]\r\n",
      "/Users/jtr4v/Library/Caches/pypoetry/virtualenvs/curate-gpt-Z25hmCIa-py3.9/lib/python3.9/site-packages/seaborn/_oldcore.py:1498: FutureWarning: is_categorical_dtype is deprecated and will be removed in a future version. Use isinstance(dtype, CategoricalDtype) instead\r\n",
      "  if pd.api.types.is_categorical_dtype(vector):\r\n",
      "/Users/jtr4v/Library/Caches/pypoetry/virtualenvs/curate-gpt-Z25hmCIa-py3.9/lib/python3.9/site-packages/seaborn/_oldcore.py:1498: FutureWarning: is_categorical_dtype is deprecated and will be removed in a future version. Use isinstance(dtype, CategoricalDtype) instead\r\n",
      "  if pd.api.types.is_categorical_dtype(vector):\r\n",
      "Figure(640x480)\r\n",
      "r-squared: 0.02021735186826436\r\n",
      "/Users/jtr4v/Library/Caches/pypoetry/virtualenvs/curate-gpt-Z25hmCIa-py3.9/lib/python3.9/site-packages/pydantic/_internal/_fields.py:149: UserWarning: Field \"model_name\" has conflict with protected namespace \"model_\".\r\n",
      "\r\n",
      "You may be able to resolve this warning by setting `model_config['protected_namespaces'] = ()`.\r\n",
      "  warnings.warn(\r\n",
      "Using root term: HP:0000118 to select terms to compare.\r\n",
      "100%|████████████████████████████████| 29499/29499 [00:00<00:00, 1745102.59it/s]\r\n",
      "Building id2emb map: 29499it [00:00, 2759255.45it/s]\r\n",
      "Choosing terms to compare: 100%|███████████| 1000/1000 [00:01<00:00, 816.61it/s]\r\n",
      "/Users/jtr4v/Library/Caches/pypoetry/virtualenvs/curate-gpt-Z25hmCIa-py3.9/lib/python3.9/site-packages/seaborn/_oldcore.py:1498: FutureWarning: is_categorical_dtype is deprecated and will be removed in a future version. Use isinstance(dtype, CategoricalDtype) instead\r\n",
      "  if pd.api.types.is_categorical_dtype(vector):\r\n",
      "/Users/jtr4v/Library/Caches/pypoetry/virtualenvs/curate-gpt-Z25hmCIa-py3.9/lib/python3.9/site-packages/seaborn/_oldcore.py:1498: FutureWarning: is_categorical_dtype is deprecated and will be removed in a future version. Use isinstance(dtype, CategoricalDtype) instead\r\n",
      "  if pd.api.types.is_categorical_dtype(vector):\r\n",
      "Figure(640x480)\r\n",
      "r-squared: 0.5089792065670653\r\n",
      "/Users/jtr4v/Library/Caches/pypoetry/virtualenvs/curate-gpt-Z25hmCIa-py3.9/lib/python3.9/site-packages/pydantic/_internal/_fields.py:149: UserWarning: Field \"model_name\" has conflict with protected namespace \"model_\".\r\n",
      "\r\n",
      "You may be able to resolve this warning by setting `model_config['protected_namespaces'] = ()`.\r\n",
      "  warnings.warn(\r\n",
      "Using root term: HP:0000118 to select terms to compare.\r\n",
      "100%|████████████████████████████████| 29499/29499 [00:00<00:00, 1836214.03it/s]\r\n",
      "Building id2emb map: 29499it [00:00, 2972153.40it/s]\r\n",
      "Choosing terms to compare: 100%|███████████| 1000/1000 [00:01<00:00, 830.03it/s]\r\n",
      "/Users/jtr4v/Library/Caches/pypoetry/virtualenvs/curate-gpt-Z25hmCIa-py3.9/lib/python3.9/site-packages/seaborn/_oldcore.py:1498: FutureWarning: is_categorical_dtype is deprecated and will be removed in a future version. Use isinstance(dtype, CategoricalDtype) instead\r\n",
      "  if pd.api.types.is_categorical_dtype(vector):\r\n",
      "/Users/jtr4v/Library/Caches/pypoetry/virtualenvs/curate-gpt-Z25hmCIa-py3.9/lib/python3.9/site-packages/seaborn/_oldcore.py:1498: FutureWarning: is_categorical_dtype is deprecated and will be removed in a future version. Use isinstance(dtype, CategoricalDtype) instead\r\n",
      "  if pd.api.types.is_categorical_dtype(vector):\r\n",
      "Figure(640x480)\r\n",
      "r-squared: 0.13296081180577732\r\n",
      "/Users/jtr4v/Library/Caches/pypoetry/virtualenvs/curate-gpt-Z25hmCIa-py3.9/lib/python3.9/site-packages/pydantic/_internal/_fields.py:149: UserWarning: Field \"model_name\" has conflict with protected namespace \"model_\".\r\n",
      "\r\n",
      "You may be able to resolve this warning by setting `model_config['protected_namespaces'] = ()`.\r\n",
      "  warnings.warn(\r\n",
      "100%|████████████████████████████████| 75893/75893 [00:00<00:00, 1917268.36it/s]\r\n",
      "Building id2emb map: 75893it [00:00, 2946273.30it/s]\r\n",
      "Choosing terms to compare: 100%|███████████| 1000/1000 [00:01<00:00, 625.99it/s]\r\n",
      "/Users/jtr4v/Library/Caches/pypoetry/virtualenvs/curate-gpt-Z25hmCIa-py3.9/lib/python3.9/site-packages/seaborn/_oldcore.py:1498: FutureWarning: is_categorical_dtype is deprecated and will be removed in a future version. Use isinstance(dtype, CategoricalDtype) instead\r\n",
      "  if pd.api.types.is_categorical_dtype(vector):\r\n",
      "/Users/jtr4v/Library/Caches/pypoetry/virtualenvs/curate-gpt-Z25hmCIa-py3.9/lib/python3.9/site-packages/seaborn/_oldcore.py:1498: FutureWarning: is_categorical_dtype is deprecated and will be removed in a future version. Use isinstance(dtype, CategoricalDtype) instead\r\n",
      "  if pd.api.types.is_categorical_dtype(vector):\r\n",
      "Figure(640x480)\r\n",
      "r-squared: 0.45925148278084876\r\n",
      "/Users/jtr4v/Library/Caches/pypoetry/virtualenvs/curate-gpt-Z25hmCIa-py3.9/lib/python3.9/site-packages/pydantic/_internal/_fields.py:149: UserWarning: Field \"model_name\" has conflict with protected namespace \"model_\".\r\n",
      "\r\n",
      "You may be able to resolve this warning by setting `model_config['protected_namespaces'] = ()`.\r\n",
      "  warnings.warn(\r\n",
      "100%|████████████████████████████████| 75893/75893 [00:00<00:00, 1741995.45it/s]\r\n",
      "Building id2emb map: 75893it [00:00, 2828264.25it/s]\r\n",
      "Choosing terms to compare: 100%|███████████| 1000/1000 [00:01<00:00, 574.20it/s]\r\n",
      "/Users/jtr4v/Library/Caches/pypoetry/virtualenvs/curate-gpt-Z25hmCIa-py3.9/lib/python3.9/site-packages/seaborn/_oldcore.py:1498: FutureWarning: is_categorical_dtype is deprecated and will be removed in a future version. Use isinstance(dtype, CategoricalDtype) instead\r\n",
      "  if pd.api.types.is_categorical_dtype(vector):\r\n",
      "/Users/jtr4v/Library/Caches/pypoetry/virtualenvs/curate-gpt-Z25hmCIa-py3.9/lib/python3.9/site-packages/seaborn/_oldcore.py:1498: FutureWarning: is_categorical_dtype is deprecated and will be removed in a future version. Use isinstance(dtype, CategoricalDtype) instead\r\n",
      "  if pd.api.types.is_categorical_dtype(vector):\r\n",
      "Figure(640x480)\r\n",
      "r-squared: 0.1351592896407047\r\n",
      "/Users/jtr4v/Library/Caches/pypoetry/virtualenvs/curate-gpt-Z25hmCIa-py3.9/lib/python3.9/site-packages/pydantic/_internal/_fields.py:149: UserWarning: Field \"model_name\" has conflict with protected namespace \"model_\".\r\n",
      "\r\n",
      "You may be able to resolve this warning by setting `model_config['protected_namespaces'] = ()`.\r\n",
      "  warnings.warn(\r\n",
      "Using root term: FOODON:00002403 to select terms to compare.\r\n",
      "100%|████████████████████████████████| 32387/32387 [00:00<00:00, 1970479.61it/s]\r\n",
      "Building id2emb map: 32387it [00:00, 2767914.17it/s]\r\n",
      "Choosing terms to compare: 100%|███████████| 1000/1000 [00:01<00:00, 720.01it/s]\r\n",
      "/Users/jtr4v/Library/Caches/pypoetry/virtualenvs/curate-gpt-Z25hmCIa-py3.9/lib/python3.9/site-packages/seaborn/_oldcore.py:1498: FutureWarning: is_categorical_dtype is deprecated and will be removed in a future version. Use isinstance(dtype, CategoricalDtype) instead\r\n",
      "  if pd.api.types.is_categorical_dtype(vector):\r\n",
      "/Users/jtr4v/Library/Caches/pypoetry/virtualenvs/curate-gpt-Z25hmCIa-py3.9/lib/python3.9/site-packages/seaborn/_oldcore.py:1498: FutureWarning: is_categorical_dtype is deprecated and will be removed in a future version. Use isinstance(dtype, CategoricalDtype) instead\r\n",
      "  if pd.api.types.is_categorical_dtype(vector):\r\n",
      "Figure(640x480)\r\n",
      "r-squared: 0.5717097474555206\r\n",
      "/Users/jtr4v/Library/Caches/pypoetry/virtualenvs/curate-gpt-Z25hmCIa-py3.9/lib/python3.9/site-packages/pydantic/_internal/_fields.py:149: UserWarning: Field \"model_name\" has conflict with protected namespace \"model_\".\r\n",
      "\r\n",
      "You may be able to resolve this warning by setting `model_config['protected_namespaces'] = ()`.\r\n",
      "  warnings.warn(\r\n",
      "Using root term: FOODON:00002403 to select terms to compare.\r\n",
      "100%|████████████████████████████████| 32387/32387 [00:00<00:00, 1821436.65it/s]\r\n",
      "Building id2emb map: 32387it [00:00, 2744205.65it/s]\r\n",
      "Choosing terms to compare:  31%|███▋        | 308/1000 [00:00<00:00, 744.24it/s]\r\n",
      "Traceback (most recent call last):\r\n",
      "  File \"/Users/jtr4v/PythonProject/curate-gpt/src/curate_gpt/agents/subsumption_eval_agent.py\", line 121, in compare_cosine_sim_to_shared_ancestors\r\n",
      "    id2 = curie2obj_id[random_other_term]['id']\r\n",
      "KeyError: 'FOODON:03412687'\r\n",
      "\r\n",
      "During handling of the above exception, another exception occurred:\r\n",
      "\r\n",
      "Traceback (most recent call last):\r\n",
      "  File \"/Users/jtr4v/Library/Caches/pypoetry/virtualenvs/curate-gpt-Z25hmCIa-py3.9/bin/curategpt\", line 6, in <module>\r\n",
      "    sys.exit(main())\r\n",
      "  File \"/Users/jtr4v/Library/Caches/pypoetry/virtualenvs/curate-gpt-Z25hmCIa-py3.9/lib/python3.9/site-packages/click/core.py\", line 1157, in __call__\r\n",
      "    return self.main(*args, **kwargs)\r\n",
      "  File \"/Users/jtr4v/Library/Caches/pypoetry/virtualenvs/curate-gpt-Z25hmCIa-py3.9/lib/python3.9/site-packages/click/core.py\", line 1078, in main\r\n",
      "    rv = self.invoke(ctx)\r\n",
      "  File \"/Users/jtr4v/Library/Caches/pypoetry/virtualenvs/curate-gpt-Z25hmCIa-py3.9/lib/python3.9/site-packages/click/core.py\", line 1688, in invoke\r\n",
      "    return _process_result(sub_ctx.command.invoke(sub_ctx))\r\n",
      "  File \"/Users/jtr4v/Library/Caches/pypoetry/virtualenvs/curate-gpt-Z25hmCIa-py3.9/lib/python3.9/site-packages/click/core.py\", line 1688, in invoke\r\n",
      "    return _process_result(sub_ctx.command.invoke(sub_ctx))\r\n",
      "  File \"/Users/jtr4v/Library/Caches/pypoetry/virtualenvs/curate-gpt-Z25hmCIa-py3.9/lib/python3.9/site-packages/click/core.py\", line 1434, in invoke\r\n",
      "    return ctx.invoke(self.callback, **ctx.params)\r\n",
      "  File \"/Users/jtr4v/Library/Caches/pypoetry/virtualenvs/curate-gpt-Z25hmCIa-py3.9/lib/python3.9/site-packages/click/core.py\", line 783, in invoke\r\n",
      "    return __callback(*args, **kwargs)\r\n",
      "  File \"/Users/jtr4v/PythonProject/curate-gpt/src/curate_gpt/cli.py\", line 1651, in subsumption_command\r\n",
      "    agent.compare_cosine_sim_to_shared_ancestors(\r\n",
      "  File \"/Users/jtr4v/PythonProject/curate-gpt/src/curate_gpt/agents/subsumption_eval_agent.py\", line 123, in compare_cosine_sim_to_shared_ancestors\r\n",
      "    raise KeyError(f\"KeyError retrieving item from curie2obj_id: {e}\")\r\n",
      "KeyError: \"KeyError retrieving item from curie2obj_id: 'FOODON:03412687'\"\r\n",
      "/Users/jtr4v/Library/Caches/pypoetry/virtualenvs/curate-gpt-Z25hmCIa-py3.9/lib/python3.9/site-packages/pydantic/_internal/_fields.py:149: UserWarning: Field \"model_name\" has conflict with protected namespace \"model_\".\r\n",
      "\r\n",
      "You may be able to resolve this warning by setting `model_config['protected_namespaces'] = ()`.\r\n",
      "  warnings.warn(\r\n",
      "Using root term: CHEBI:59999 to select terms to compare.\r\n",
      "100%|██████████████████████████████| 166855/166855 [00:00<00:00, 1683980.96it/s]\r\n",
      "Building id2emb map: 166855it [00:00, 2504385.80it/s]\r\n",
      "Choosing terms to compare: 100%|███████████| 1000/1000 [00:01<00:00, 643.53it/s]\r\n",
      "/Users/jtr4v/Library/Caches/pypoetry/virtualenvs/curate-gpt-Z25hmCIa-py3.9/lib/python3.9/site-packages/seaborn/_oldcore.py:1498: FutureWarning: is_categorical_dtype is deprecated and will be removed in a future version. Use isinstance(dtype, CategoricalDtype) instead\r\n",
      "  if pd.api.types.is_categorical_dtype(vector):\r\n",
      "/Users/jtr4v/Library/Caches/pypoetry/virtualenvs/curate-gpt-Z25hmCIa-py3.9/lib/python3.9/site-packages/seaborn/_oldcore.py:1498: FutureWarning: is_categorical_dtype is deprecated and will be removed in a future version. Use isinstance(dtype, CategoricalDtype) instead\r\n",
      "  if pd.api.types.is_categorical_dtype(vector):\r\n",
      "Figure(640x480)\r\n",
      "r-squared: 0.22513629243465821\r\n",
      "/Users/jtr4v/Library/Caches/pypoetry/virtualenvs/curate-gpt-Z25hmCIa-py3.9/lib/python3.9/site-packages/pydantic/_internal/_fields.py:149: UserWarning: Field \"model_name\" has conflict with protected namespace \"model_\".\r\n",
      "\r\n",
      "You may be able to resolve this warning by setting `model_config['protected_namespaces'] = ()`.\r\n",
      "  warnings.warn(\r\n",
      "Using root term: CHEBI:59999 to select terms to compare.\r\n",
      "100%|██████████████████████████████| 166855/166855 [00:00<00:00, 1737491.17it/s]\r\n",
      "Building id2emb map: 166855it [00:00, 2696423.70it/s]\r\n",
      "Choosing terms to compare: 100%|███████████| 1000/1000 [00:01<00:00, 737.49it/s]\r\n",
      "/Users/jtr4v/Library/Caches/pypoetry/virtualenvs/curate-gpt-Z25hmCIa-py3.9/lib/python3.9/site-packages/seaborn/_oldcore.py:1498: FutureWarning: is_categorical_dtype is deprecated and will be removed in a future version. Use isinstance(dtype, CategoricalDtype) instead\r\n",
      "  if pd.api.types.is_categorical_dtype(vector):\r\n",
      "/Users/jtr4v/Library/Caches/pypoetry/virtualenvs/curate-gpt-Z25hmCIa-py3.9/lib/python3.9/site-packages/seaborn/_oldcore.py:1498: FutureWarning: is_categorical_dtype is deprecated and will be removed in a future version. Use isinstance(dtype, CategoricalDtype) instead\r\n",
      "  if pd.api.types.is_categorical_dtype(vector):\r\n",
      "Figure(640x480)\r\n",
      "r-squared: 0.0680209366780529\r\n",
      "The file /Users/jtr4v/PythonProject/curate-gpt/notebooks/command-line/*png does not exist.\r\n"
     ]
    }
   ],
   "source": [
    "# Mondo\n",
    "!curategpt ontology subsumption --output_dir build --root_term MONDO:0700096 --prefix \"MONDO:\" -p ../../stagedb -c ont_mondo_norel sqlite:obo:mondo -m openai:\n",
    "!curategpt ontology subsumption --output_dir build --choose_subsuming_terms False --root_term MONDO:0700096 --prefix \"MONDO:\" -p ../../stagedb -c ont_mondo_norel sqlite:obo:mondo -m openai:\n",
    "\n",
    "# HP\n",
    "!curategpt ontology subsumption --output_dir build --root_term HP:0000118 --prefix \"HP:\" -p ../../stagedb -c ont_hp_norel sqlite:obo:hp -m openai:\n",
    "!curategpt ontology subsumption --output_dir build --choose_subsuming_terms False --root_term HP:0000118 --prefix \"HP:\" -p ../../stagedb -c ont_hp_norel sqlite:obo:hp -m openai:\n",
    "\n",
    "# GO\n",
    "!curategpt ontology subsumption --output_dir build --prefix \"GO:\" -p ../../stagedb -c ont_go_norel sqlite:obo:go -m openai:\n",
    "!curategpt ontology subsumption --output_dir build --choose_subsuming_terms False --prefix \"GO:\" -p ../../stagedb -c ont_go_norel sqlite:obo:go -m openai:\n",
    "\n",
    "# FOODON\n",
    "!curategpt ontology subsumption --output_dir build --root_term FOODON:00002403 --prefix \"FOODON:\" -p ../../stagedb -c ont_foodon_norel sqlite:obo:foodon -m openai:\n",
    "!curategpt ontology subsumption --output_dir build --choose_subsuming_terms False --root_term FOODON:00002403 --prefix \"FOODON:\" -p ../../stagedb -c ont_foodon_norel sqlite:obo:foodon -m openai:\n",
    "\n",
    "# CHEBI\n",
    "!curategpt ontology subsumption --output_dir build --root_term CHEBI:59999 --prefix \"CHEBI:\" -p ../../stagedb -c ont_chebi_norel sqlite:obo:chebi -m openai:\n",
    "!curategpt ontology subsumption --choose_subsuming_terms False --output_dir build --root_term CHEBI:59999 --prefix \"CHEBI:\" -p ../../stagedb -c ont_chebi_norel sqlite:obo:chebi -m openai:\n",
    "\n",
    "!open *png"
   ],
   "metadata": {
    "collapsed": false,
    "ExecuteTime": {
     "end_time": "2024-02-23T21:56:34.771347Z",
     "start_time": "2024-02-23T21:26:07.255874Z"
    }
   },
   "id": "3e2025479fee4a38"
  },
  {
   "cell_type": "code",
   "execution_count": null,
   "outputs": [],
   "source": [],
   "metadata": {
    "collapsed": false
   },
   "id": "aa64889d863ebd6a"
  }
 ],
 "metadata": {
  "kernelspec": {
   "display_name": "Python 3 (ipykernel)",
   "language": "python",
   "name": "python3"
  },
  "language_info": {
   "codemirror_mode": {
    "name": "ipython",
    "version": 3
   },
   "file_extension": ".py",
   "mimetype": "text/x-python",
   "name": "python",
   "nbconvert_exporter": "python",
   "pygments_lexer": "ipython3",
   "version": "3.10.9"
  }
 },
 "nbformat": 4,
 "nbformat_minor": 5
}
