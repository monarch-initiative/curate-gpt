{
 "cells": [
  {
   "cell_type": "markdown",
   "id": "b73a65b5-c626-4893-84f1-688d9ef31beb",
   "metadata": {},
   "source": [
    "# GitHub-assisted workflow\n",
    "\n",
    "Here we will walk through a use case where we make use of an index of an ontology issue tracker to assist us\n",
    "in adding ontology terms."
   ]
  },
  {
   "cell_type": "code",
   "execution_count": 6,
   "id": "a3126de8-9255-4df3-967b-4f4e4478d508",
   "metadata": {},
   "outputs": [],
   "source": [
    "!curategpt ontology index -m openai:  -c terms_obi sqlite:obo:obi"
   ]
  },
  {
   "cell_type": "markdown",
   "id": "a39022be-87f5-4f8e-a99f-c934803962cf",
   "metadata": {},
   "source": [
    "__TODO__ we should probably pin this to a version of OBI, as if OBI adds the term described here the demo doesn't make sense any more..."
   ]
  },
  {
   "cell_type": "markdown",
   "id": "098418a2-4de6-4db3-b7f5-d1faae595bd4",
   "metadata": {},
   "source": [
    "## Check the indexing worked\n",
    "\n",
    "We'll query for the top 3 terms most similar to \"magnetoencephalography\""
   ]
  },
  {
   "cell_type": "code",
   "execution_count": 11,
   "id": "789e79ae-5520-4bd4-aa23-7f86c71f668c",
   "metadata": {},
   "outputs": [
    {
     "name": "stdout",
     "output_type": "stream",
     "text": [
      "## 1 DISTANCE: 0.1318223476409912\n",
      "id: Electroencephalography\n",
      "label: electroencephalography\n",
      "definition: An extracellular electrophysiology assay where electrodes are mounted\n",
      "  outside the brain (either on the surface of the scalp on onto the brain surface\n",
      "  itself during surgery) to measure the electrical field over the external surface.\n",
      "relationships:\n",
      "- predicate: rdfs:subClassOf\n",
      "  target: ExtracellularElectrophysiologyRecordingAssay\n",
      "\n",
      "## 2 DISTANCE: 0.2989899218082428\n",
      "id: MagneticResonanceImagingAssay\n",
      "label: magnetic resonance imaging assay\n",
      "definition: An imaging assay in which nuclear magnetic resonance is used to produce\n",
      "  information about the interior structure and composition of an input material entity.\n",
      "relationships:\n",
      "- predicate: rdfs:subClassOf\n",
      "  target: ImagingAssay\n",
      "\n",
      "## 3 DISTANCE: 0.3554028570652008\n",
      "id: Immunoelectrophoresis\n",
      "label: immunoelectrophoresis\n",
      "definition: An electrophoresis that separates and characterize proteins based on reaction\n",
      "  with antibodies.\n",
      "relationships:\n",
      "- predicate: rdfs:subClassOf\n",
      "  target: Electrophoresis\n",
      "\n"
     ]
    }
   ],
   "source": [
    "!curategpt search -l 3 -c terms_obi magnetoencephalography"
   ]
  },
  {
   "cell_type": "markdown",
   "id": "2a04da8b-8d29-48a3-9704-b1ba1b7de3b3",
   "metadata": {},
   "source": [
    "Note the results (intentionally) don't have the IDs, and CamelCase versions of the labels are used as IDs\n",
    "(with additional uniquification). We'll return to this"
   ]
  },
  {
   "cell_type": "markdown",
   "id": "859aa3bc-a728-44ed-89e4-7021b7115046",
   "metadata": {},
   "source": [
    "## Index the issue tracker"
   ]
  },
  {
   "cell_type": "code",
   "execution_count": 3,
   "id": "59f07b96-66ee-4372-b15a-9c0a23b8b59e",
   "metadata": {},
   "outputs": [],
   "source": [
    "!curategpt index -c gh_obi obi-issues/*.json "
   ]
  },
  {
   "cell_type": "code",
   "execution_count": 4,
   "id": "33f03161-636b-4f31-a58a-14ec78d1d9ad",
   "metadata": {},
   "outputs": [
    {
     "name": "stdout",
     "output_type": "stream",
     "text": [
      "## 0 DISTANCE: 0.4603792726993561\n",
      "number: 1000\n",
      "state: OPEN\n",
      "title: 'NTR: magnetoencephalography'\n",
      "\n",
      "## 0 DISTANCE: 1.0009130239486694\n",
      "body: \"NTR: magnetoencephalography\\r\\ndefinition: a functional neuroimaging technique\\\n",
      "  \\ for mapping brain activity by recording magnetic fields produced by electrical\\\n",
      "  \\ currents occurring naturally in the brain, using very sensitive magnetometers.\\\n",
      "  \\ [Source: https://en.wikipedia.org/wiki/Magnetoencephalography]\\r\\nParent: extracellular\\\n",
      "  \\ electrophysiology recording assay OBI:0000454\\r\\nsynonyms: MEG\\r\\n\\r\\nThe term\\\n",
      "  \\ does exist in Ontology for MIRNA Target (OMIT:0016015), though that seems an inappropriate\\\n",
      "  \\ place. \"\n",
      "closedAt: null\n",
      "comments:\n",
      "- id: MDEyOklzc3VlQ29tbWVudDQ2OTM0NDg3NA==\n",
      "  author:\n",
      "    \n",
      "  authorAssociation: CONTRIBUTOR\n",
      "  body: \"Discussed on the OBI call 2019-03-04.\\r\\n\\r\\nWhile looking at this issue,\\\n",
      "    \\ we noticed that 'extracellular electrophysiology recording assay' OBI:0000454`has_specified_output\\\n",
      "    \\ some 'mass measurement datum'` -- that has to be a bug in the `assays.tsv` template.\\r\\\n",
      "    \\n\\r\\nIn any case, the proposed parent 'extracellular electrophysiology recording\\\n",
      "    \\ assay' doesn't seem to be a great parent term, based on its definition.\\r\\n\\r\\\n",
      "    \\nWe propose to try to classify this term along two axes: the imaging technique\\\n",
      "    \\ (magnetometry) and what is being imaged (neuroimaging). Unfortunately OBI does\\\n",
      "    \\ not have terms for 'magnetometry' or for 'neuroimaging'.\\r\\n\\r\\nDoes something\\\n",
      "    \\ along these sound ok?\"\n",
      "  createdAt: '2019-03-04T17:39:30Z'\n",
      "  includesCreatedEdit: false\n",
      "  isMinimized: false\n",
      "  minimizedReason: ''\n",
      "  reactionGroups: []\n",
      "  url: https://github.com/obi-ontology/obi/issues/1000#issuecomment-469344874\n",
      "  viewerDidAuthor: false\n",
      "- id: MDEyOklzc3VlQ29tbWVudDU2NDAwMTY3Mw==\n",
      "  author:\n",
      "    \n",
      "  authorAssociation: NONE\n",
      "  body: \"Hi,\\r\\nI completely missed the reply to this. Sorry.\\r\\nClassifying via the\\\n",
      "    \\ technique and what is being imaged seems like a good idea to me. Perhaps creating\\\n",
      "    \\ 'magnetometry' as the parent of 'megnetometry for neuroimaging'?\"\n",
      "  createdAt: '2019-12-10T12:00:36Z'\n",
      "  includesCreatedEdit: false\n",
      "  isMinimized: false\n",
      "  minimizedReason: ''\n",
      "  reactionGroups: []\n",
      "  url: https://github.com/obi-ontology/obi/issues/1000#issuecomment-564001673\n",
      "  viewerDidAuthor: false\n",
      "createdAt: '2019-02-27T09:51:04Z'\n",
      "number: 1000\n",
      "title: 'NTR: magnetoencephalography'\n",
      "\n"
     ]
    }
   ],
   "source": [
    "!curategpt search -l 2 -c gh_obi magnetoencephalography | perl -npe 's@login:.*@@'"
   ]
  },
  {
   "cell_type": "markdown",
   "id": "8f600f56-0a8a-4f5a-8a49-2134ab9dea2b",
   "metadata": {},
   "source": [
    "## Create a term using GitHub issues as background knowledge"
   ]
  },
  {
   "cell_type": "code",
   "execution_count": 9,
   "id": "dc7b91a7-4656-4e34-ad26-de88a8d91716",
   "metadata": {},
   "outputs": [
    {
     "name": "stdout",
     "output_type": "stream",
     "text": [
      "id: Magnetoencephalography\n",
      "label: magnetoencephalography\n",
      "definition: A functional neuroimaging technique for mapping brain activity by recording\n",
      "  magnetic fields produced by electrical currents occurring naturally in the brain,\n",
      "  using very sensitive magnetometers.\n",
      "relationships:\n",
      "- predicate: rdfs:subClassOf\n",
      "  target: ExtracellularElectrophysiologyRecordingAssay\n",
      "\n"
     ]
    }
   ],
   "source": [
    "!curategpt create -c terms_obi --docstore-collection gh_obi -m gpt-4 \"magnetoencephalography\""
   ]
  },
  {
   "cell_type": "markdown",
   "id": "a1f1aef4-cc09-4b3b-872e-9a1e7aeeaaea",
   "metadata": {},
   "source": [
    "### Comparison without GitHub issues"
   ]
  },
  {
   "cell_type": "code",
   "execution_count": 10,
   "id": "b15e35e7-e925-435b-b7c9-c89b8d4b7f98",
   "metadata": {},
   "outputs": [
    {
     "name": "stdout",
     "output_type": "stream",
     "text": [
      "id: Magnetoencephalography\n",
      "label: magnetoencephalography\n",
      "definition: A technique for mapping brain activity by recording magnetic fields produced\n",
      "  by electrical currents occurring naturally in the brain, using very sensitive magnetometers.\n",
      "relationships:\n",
      "- predicate: rdfs:subClassOf\n",
      "  target: BrainMapping\n",
      "\n"
     ]
    }
   ],
   "source": [
    "!curategpt create -c terms_obi -m gpt-4 \"magnetoencephalography\""
   ]
  },
  {
   "cell_type": "markdown",
   "id": "e0ca0252-bb90-4167-a65b-4dc51865f721",
   "metadata": {},
   "source": [
    "As can be seen, the resulting definition is quite close. This is not surprising as the source of the proposed definition in the github issue is from Wikipedia, which has already been ingested by GPT-4. However, we can see the wording (_A functional neuroimaging technique_) is taken directly from the modified form proposed in the GitHub issue when the GitHub store is given as an additional document source.\n",
    "\n",
    "This is more obvious when we also consider the suggested parent (`ExtracellularElectrophysiologyRecordingAssay`, an existing term)."
   ]
  }
 ],
 "metadata": {
  "kernelspec": {
   "display_name": "Python 3 (ipykernel)",
   "language": "python",
   "name": "python3"
  },
  "language_info": {
   "codemirror_mode": {
    "name": "ipython",
    "version": 3
   },
   "file_extension": ".py",
   "mimetype": "text/x-python",
   "name": "python",
   "nbconvert_exporter": "python",
   "pygments_lexer": "ipython3",
   "version": "3.10.9"
  }
 },
 "nbformat": 4,
 "nbformat_minor": 5
}
